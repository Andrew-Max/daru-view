{
 "cells": [
  {
   "cell_type": "code",
   "execution_count": 1,
   "metadata": {},
   "outputs": [
    {
     "name": "stderr",
     "output_type": "stream",
     "text": [
      "\n",
      "Install the spreadsheet gem version ~>1.1.1 for using spreadsheet functions.\n",
      "\n",
      "Install the mechanize gem version ~>2.7.5 for using mechanize functions.\n"
     ]
    },
    {
     "data": {
      "application/javascript": [
       "if(window['d3'] === undefined ||\n",
       "   window['Nyaplot'] === undefined){\n",
       "    var path = {\"d3\":\"https://cdnjs.cloudflare.com/ajax/libs/d3/3.5.5/d3.min\",\"downloadable\":\"http://cdn.rawgit.com/domitry/d3-downloadable/master/d3-downloadable\"};\n",
       "\n",
       "\n",
       "\n",
       "    var shim = {\"d3\":{\"exports\":\"d3\"},\"downloadable\":{\"exports\":\"downloadable\"}};\n",
       "\n",
       "    require.config({paths: path, shim:shim});\n",
       "\n",
       "\n",
       "require(['d3'], function(d3){window['d3']=d3;console.log('finished loading d3');require(['downloadable'], function(downloadable){window['downloadable']=downloadable;console.log('finished loading downloadable');\n",
       "\n",
       "\tvar script = d3.select(\"head\")\n",
       "\t    .append(\"script\")\n",
       "\t    .attr(\"src\", \"http://cdn.rawgit.com/domitry/Nyaplotjs/master/release/nyaplot.js\")\n",
       "\t    .attr(\"async\", true);\n",
       "\n",
       "\tscript[0][0].onload = script[0][0].onreadystatechange = function(){\n",
       "\n",
       "\n",
       "\t    var event = document.createEvent(\"HTMLEvents\");\n",
       "\t    event.initEvent(\"load_nyaplot\",false,false);\n",
       "\t    window.dispatchEvent(event);\n",
       "\t    console.log('Finished loading Nyaplotjs');\n",
       "\n",
       "\t};\n",
       "\n",
       "\n",
       "});});\n",
       "}\n"
      ],
      "text/plain": [
       "\"if(window['d3'] === undefined ||\\n   window['Nyaplot'] === undefined){\\n    var path = {\\\"d3\\\":\\\"https://cdnjs.cloudflare.com/ajax/libs/d3/3.5.5/d3.min\\\",\\\"downloadable\\\":\\\"http://cdn.rawgit.com/domitry/d3-downloadable/master/d3-downloadable\\\"};\\n\\n\\n\\n    var shim = {\\\"d3\\\":{\\\"exports\\\":\\\"d3\\\"},\\\"downloadable\\\":{\\\"exports\\\":\\\"downloadable\\\"}};\\n\\n    require.config({paths: path, shim:shim});\\n\\n\\nrequire(['d3'], function(d3){window['d3']=d3;console.log('finished loading d3');require(['downloadable'], function(downloadable){window['downloadable']=downloadable;console.log('finished loading downloadable');\\n\\n\\tvar script = d3.select(\\\"head\\\")\\n\\t    .append(\\\"script\\\")\\n\\t    .attr(\\\"src\\\", \\\"http://cdn.rawgit.com/domitry/Nyaplotjs/master/release/nyaplot.js\\\")\\n\\t    .attr(\\\"async\\\", true);\\n\\n\\tscript[0][0].onload = script[0][0].onreadystatechange = function(){\\n\\n\\n\\t    var event = document.createEvent(\\\"HTMLEvents\\\");\\n\\t    event.initEvent(\\\"load_nyaplot\\\",false,false);\\n\\t    window.dispatchEvent(event);\\n\\t    console.log('Finished loading Nyaplotjs');\\n\\n\\t};\\n\\n\\n});});\\n}\\n\""
      ]
     },
     "metadata": {},
     "output_type": "display_data"
    },
    {
     "data": {
      "text/plain": [
       "true"
      ]
     },
     "execution_count": 1,
     "metadata": {},
     "output_type": "execute_result"
    }
   ],
   "source": [
    "require 'daru/view'"
   ]
  },
  {
   "cell_type": "code",
   "execution_count": 2,
   "metadata": {},
   "outputs": [
    {
     "data": {
      "text/html": [
       "<b> Daru::DataFrame(6x3) </b>\n",
       "<table>\n",
       "  <thead>\n",
       "  \n",
       "    <tr>\n",
       "      <th></th>\n",
       "      \n",
       "        <th>a</th>\n",
       "      \n",
       "        <th>b</th>\n",
       "      \n",
       "        <th>c</th>\n",
       "      \n",
       "    </tr>\n",
       "  \n",
       "</thead>\n",
       "  <tbody>\n",
       "  \n",
       "    <tr>\n",
       "      <td>a</td>\n",
       "      \n",
       "        <td>1</td>\n",
       "      \n",
       "        <td>1</td>\n",
       "      \n",
       "        <td>1</td>\n",
       "      \n",
       "    </tr>\n",
       "  \n",
       "    <tr>\n",
       "      <td>b</td>\n",
       "      \n",
       "        <td>2</td>\n",
       "      \n",
       "        <td>5</td>\n",
       "      \n",
       "        <td>6</td>\n",
       "      \n",
       "    </tr>\n",
       "  \n",
       "    <tr>\n",
       "      <td>c</td>\n",
       "      \n",
       "        <td>3</td>\n",
       "      \n",
       "        <td>2</td>\n",
       "      \n",
       "        <td>7</td>\n",
       "      \n",
       "    </tr>\n",
       "  \n",
       "    <tr>\n",
       "      <td>d</td>\n",
       "      \n",
       "        <td>4</td>\n",
       "      \n",
       "        <td>5</td>\n",
       "      \n",
       "        <td>2</td>\n",
       "      \n",
       "    </tr>\n",
       "  \n",
       "    <tr>\n",
       "      <td>e</td>\n",
       "      \n",
       "        <td>5</td>\n",
       "      \n",
       "        <td>1</td>\n",
       "      \n",
       "        <td>6</td>\n",
       "      \n",
       "    </tr>\n",
       "  \n",
       "    <tr>\n",
       "      <td>f</td>\n",
       "      \n",
       "        <td>6</td>\n",
       "      \n",
       "        <td>0</td>\n",
       "      \n",
       "        <td>0</td>\n",
       "      \n",
       "    </tr>\n",
       "  \n",
       "\n",
       "  \n",
       "</tbody>\n",
       "</table>"
      ],
      "text/plain": [
       "#<Daru::DataFrame(6x3)>\n",
       "       a   b   c\n",
       "   a   1   1   1\n",
       "   b   2   5   6\n",
       "   c   3   2   7\n",
       "   d   4   5   2\n",
       "   e   5   1   6\n",
       "   f   6   0   0"
      ]
     },
     "execution_count": 2,
     "metadata": {},
     "output_type": "execute_result"
    }
   ],
   "source": [
    "df =     Daru::DataFrame.new(\n",
    "      {\n",
    "        a: [1, 2, 3, 4, 5, 6],\n",
    "        b: [1, 5, 2, 5, 1, 0],\n",
    "        c: [1, 6, 7, 2, 6, 0]\n",
    "      }, index: 'a'..'f'\n",
    "    )"
   ]
  },
  {
   "cell_type": "code",
   "execution_count": 3,
   "metadata": {},
   "outputs": [
    {
     "data": {
      "text/plain": [
       "#<Daru::View::Plot:0x00000001dd0170 @data=#<Daru::DataFrame(6x3)>\n",
       "       a   b   c\n",
       "   a   1   1   1\n",
       "   b   2   5   6\n",
       "   c   3   2   7\n",
       "   d   4   5   2\n",
       "   e   5   1   6\n",
       "   f   6   0   0, @options={:type=>:line, :x=>:a, :y=>:c}, @adapter=Daru::View::Adapter::NyaplotAdapter, @chart=#<Nyaplot::Plot:0x00000001dbbdd8 @properties={:diagrams=>[#<Nyaplot::Diagram:0x00000001d580f8 @properties={:type=>:line, :options=>{:x=>:a, :y=>:c}, :data=>\"f86a405a-77d6-45f4-98f1-cb8b076e7577\"}, @xrange=[1, 6], @yrange=[0, 7]>], :options=>{}}>>"
      ]
     },
     "execution_count": 3,
     "metadata": {},
     "output_type": "execute_result"
    }
   ],
   "source": [
    "plt = Daru::View::Plot.new(df, type: :line, x: :a, y: :c) "
   ]
  },
  {
   "cell_type": "code",
   "execution_count": 4,
   "metadata": {},
   "outputs": [
    {
     "data": {
      "text/html": [
       "<div id='vis-b99d6e50-d504-4f87-82ad-7181406ab254'></div>\n",
       "<script>\n",
       "(function(){\n",
       "    var render = function(){\n",
       "        var model = {\"panes\":[{\"diagrams\":[{\"type\":\"line\",\"options\":{\"x\":\"a\",\"y\":\"c\"},\"data\":\"f86a405a-77d6-45f4-98f1-cb8b076e7577\"}],\"options\":{\"zoom\":true,\"width\":700,\"xrange\":[1,6],\"yrange\":[0,7]}}],\"data\":{\"f86a405a-77d6-45f4-98f1-cb8b076e7577\":[{\"a\":1,\"b\":1,\"c\":1},{\"a\":2,\"b\":5,\"c\":6},{\"a\":3,\"b\":2,\"c\":7},{\"a\":4,\"b\":5,\"c\":2},{\"a\":5,\"b\":1,\"c\":6},{\"a\":6,\"b\":0,\"c\":0}]},\"extension\":[]}\n",
       "        var id_name = '#vis-b99d6e50-d504-4f87-82ad-7181406ab254';\n",
       "        Nyaplot.core.parse(model, id_name);\n",
       "\n",
       "        require(['downloadable'], function(downloadable){\n",
       "          var svg = d3.select(id_name).select(\"svg\");\n",
       "\t  if(!svg.empty())\n",
       "\t    svg.call(downloadable().filename('fig'));\n",
       "\t});\n",
       "    };\n",
       "    if(window['Nyaplot']==undefined){\n",
       "        window.addEventListener('load_nyaplot', render, false);\n",
       "\treturn;\n",
       "    } else {\n",
       "       render();\n",
       "    }\n",
       "})();\n",
       "</script>\n"
      ],
      "text/plain": [
       "#<Nyaplot::Frame:0x00000001aa4640 @properties={:panes=>[#<Nyaplot::Plot:0x00000001dbbdd8 @properties={:diagrams=>[#<Nyaplot::Diagram:0x00000001d580f8 @properties={:type=>:line, :options=>{:x=>:a, :y=>:c}, :data=>\"f86a405a-77d6-45f4-98f1-cb8b076e7577\"}, @xrange=[1, 6], @yrange=[0, 7]>], :options=>{:zoom=>true, :width=>700, :xrange=>[1, 6], :yrange=>[0, 7]}}>], :data=>{\"f86a405a-77d6-45f4-98f1-cb8b076e7577\"=>#<Nyaplot::DataFrame:0x00000001d5a628 @name=\"f86a405a-77d6-45f4-98f1-cb8b076e7577\", @rows=[{:a=>1, :b=>1, :c=>1}, {:a=>2, :b=>5, :c=>6}, {:a=>3, :b=>2, :c=>7}, {:a=>4, :b=>5, :c=>2}, {:a=>5, :b=>1, :c=>6}, {:a=>6, :b=>0, :c=>0}]>}, :extension=>[]}>"
      ]
     },
     "metadata": {},
     "output_type": "display_data"
    },
    {
     "data": {
      "text/plain": [
       "#<CZTop::Socket::PUB:0x2c6bf50 last_endpoint=\"tcp://127.0.0.1:37477\">"
      ]
     },
     "execution_count": 4,
     "metadata": {},
     "output_type": "execute_result"
    }
   ],
   "source": [
    "plt.show_in_iruby"
   ]
  },
  {
   "cell_type": "code",
   "execution_count": 5,
   "metadata": {},
   "outputs": [
    {
     "data": {
      "application/javascript": [
       "if(window['d3'] === undefined ||\n",
       "   window['Nyaplot'] === undefined){\n",
       "    var path = {\"d3\":\"https://cdnjs.cloudflare.com/ajax/libs/d3/3.5.5/d3.min\",\"downloadable\":\"http://cdn.rawgit.com/domitry/d3-downloadable/master/d3-downloadable\"};\n",
       "\n",
       "\n",
       "\n",
       "    var shim = {\"d3\":{\"exports\":\"d3\"},\"downloadable\":{\"exports\":\"downloadable\"}};\n",
       "\n",
       "    require.config({paths: path, shim:shim});\n",
       "\n",
       "\n",
       "require(['d3'], function(d3){window['d3']=d3;console.log('finished loading d3');require(['downloadable'], function(downloadable){window['downloadable']=downloadable;console.log('finished loading downloadable');\n",
       "\n",
       "\tvar script = d3.select(\"head\")\n",
       "\t    .append(\"script\")\n",
       "\t    .attr(\"src\", \"http://cdn.rawgit.com/domitry/Nyaplotjs/master/release/nyaplot.js\")\n",
       "\t    .attr(\"async\", true);\n",
       "\n",
       "\tscript[0][0].onload = script[0][0].onreadystatechange = function(){\n",
       "\n",
       "\n",
       "\t    var event = document.createEvent(\"HTMLEvents\");\n",
       "\t    event.initEvent(\"load_nyaplot\",false,false);\n",
       "\t    window.dispatchEvent(event);\n",
       "\t    console.log('Finished loading Nyaplotjs');\n",
       "\n",
       "\t};\n",
       "\n",
       "\n",
       "});});\n",
       "}\n"
      ],
      "text/plain": [
       "\"if(window['d3'] === undefined ||\\n   window['Nyaplot'] === undefined){\\n    var path = {\\\"d3\\\":\\\"https://cdnjs.cloudflare.com/ajax/libs/d3/3.5.5/d3.min\\\",\\\"downloadable\\\":\\\"http://cdn.rawgit.com/domitry/d3-downloadable/master/d3-downloadable\\\"};\\n\\n\\n\\n    var shim = {\\\"d3\\\":{\\\"exports\\\":\\\"d3\\\"},\\\"downloadable\\\":{\\\"exports\\\":\\\"downloadable\\\"}};\\n\\n    require.config({paths: path, shim:shim});\\n\\n\\nrequire(['d3'], function(d3){window['d3']=d3;console.log('finished loading d3');require(['downloadable'], function(downloadable){window['downloadable']=downloadable;console.log('finished loading downloadable');\\n\\n\\tvar script = d3.select(\\\"head\\\")\\n\\t    .append(\\\"script\\\")\\n\\t    .attr(\\\"src\\\", \\\"http://cdn.rawgit.com/domitry/Nyaplotjs/master/release/nyaplot.js\\\")\\n\\t    .attr(\\\"async\\\", true);\\n\\n\\tscript[0][0].onload = script[0][0].onreadystatechange = function(){\\n\\n\\n\\t    var event = document.createEvent(\\\"HTMLEvents\\\");\\n\\t    event.initEvent(\\\"load_nyaplot\\\",false,false);\\n\\t    window.dispatchEvent(event);\\n\\t    console.log('Finished loading Nyaplotjs');\\n\\n\\t};\\n\\n\\n});});\\n}\\n\""
      ]
     },
     "metadata": {},
     "output_type": "display_data"
    },
    {
     "data": {
      "text/plain": [
       ":nyaplot"
      ]
     },
     "execution_count": 5,
     "metadata": {},
     "output_type": "execute_result"
    }
   ],
   "source": [
    "Daru::View.plotting_library = :nyaplot"
   ]
  },
  {
   "cell_type": "code",
   "execution_count": 6,
   "metadata": {},
   "outputs": [
    {
     "ename": "NameError",
     "evalue": "wrong constant name ",
     "output_type": "error",
     "traceback": [
      "\u001b[31mNameError\u001b[0m: wrong constant name ",
      "\u001b[37m/home/prakriti/.rvm/gems/ruby-2.4.1/gems/nyaplot-0.1.6/lib/nyaplot/diagram.rb:11:in `const_get'\u001b[0m",
      "\u001b[37m/home/prakriti/.rvm/gems/ruby-2.4.1/gems/nyaplot-0.1.6/lib/nyaplot/diagram.rb:11:in `initialize'\u001b[0m",
      "\u001b[37m/home/prakriti/.rvm/gems/ruby-2.4.1/gems/nyaplot-0.1.6/lib/nyaplot/plot.rb:75:in `new'\u001b[0m",
      "\u001b[37m/home/prakriti/.rvm/gems/ruby-2.4.1/gems/nyaplot-0.1.6/lib/nyaplot/plot.rb:75:in `add_with_df'\u001b[0m",
      "\u001b[37m/home/prakriti/.rvm/gems/ruby-2.4.1/gems/daru-0.2.0/lib/daru/plotting/nyaplot/dataframe.rb:167:in `add_single_diagram'\u001b[0m",
      "\u001b[37m/home/prakriti/.rvm/gems/ruby-2.4.1/gems/daru-0.2.0/lib/daru/plotting/nyaplot/dataframe.rb:147:in `plot_regular_diagrams'\u001b[0m",
      "\u001b[37m/home/prakriti/.rvm/gems/ruby-2.4.1/gems/daru-0.2.0/lib/daru/plotting/nyaplot/dataframe.rb:53:in `plot_without_category'\u001b[0m",
      "\u001b[37m/home/prakriti/.rvm/gems/ruby-2.4.1/gems/daru-0.2.0/lib/daru/plotting/nyaplot/dataframe.rb:29:in `plot'\u001b[0m",
      "\u001b[37m/home/prakriti/daru-view/lib/daru/view/adapters/nyaplot.rb:13:in `init'\u001b[0m",
      "\u001b[37m/home/prakriti/daru-view/lib/daru/view/plot.rb:103:in `plot_data'\u001b[0m",
      "\u001b[37m/home/prakriti/daru-view/lib/daru/view/plot.rb:42:in `initialize'\u001b[0m",
      "\u001b[37m(pry):12:in `new'\u001b[0m",
      "\u001b[37m(pry):12:in `<main>'\u001b[0m",
      "\u001b[37m/home/prakriti/.rvm/gems/ruby-2.4.1/gems/pry-0.11.3/lib/pry/pry_instance.rb:355:in `eval'\u001b[0m",
      "\u001b[37m/home/prakriti/.rvm/gems/ruby-2.4.1/gems/pry-0.11.3/lib/pry/pry_instance.rb:355:in `evaluate_ruby'\u001b[0m",
      "\u001b[37m/home/prakriti/.rvm/gems/ruby-2.4.1/gems/pry-0.11.3/lib/pry/pry_instance.rb:323:in `handle_line'\u001b[0m",
      "\u001b[37m/home/prakriti/.rvm/gems/ruby-2.4.1/gems/pry-0.11.3/lib/pry/pry_instance.rb:243:in `block (2 levels) in eval'\u001b[0m",
      "\u001b[37m/home/prakriti/.rvm/gems/ruby-2.4.1/gems/pry-0.11.3/lib/pry/pry_instance.rb:242:in `catch'\u001b[0m",
      "\u001b[37m/home/prakriti/.rvm/gems/ruby-2.4.1/gems/pry-0.11.3/lib/pry/pry_instance.rb:242:in `block in eval'\u001b[0m",
      "\u001b[37m/home/prakriti/.rvm/gems/ruby-2.4.1/gems/pry-0.11.3/lib/pry/pry_instance.rb:241:in `catch'\u001b[0m",
      "\u001b[37m/home/prakriti/.rvm/gems/ruby-2.4.1/gems/pry-0.11.3/lib/pry/pry_instance.rb:241:in `eval'\u001b[0m",
      "\u001b[37m/home/prakriti/.rvm/gems/ruby-2.4.1/gems/iruby-0.3/lib/iruby/backend.rb:66:in `eval'\u001b[0m",
      "\u001b[37m/home/prakriti/.rvm/gems/ruby-2.4.1/gems/iruby-0.3/lib/iruby/backend.rb:12:in `eval'\u001b[0m",
      "\u001b[37m/home/prakriti/.rvm/gems/ruby-2.4.1/gems/iruby-0.3/lib/iruby/kernel.rb:87:in `execute_request'\u001b[0m",
      "\u001b[37m/home/prakriti/.rvm/gems/ruby-2.4.1/gems/iruby-0.3/lib/iruby/kernel.rb:47:in `dispatch'\u001b[0m",
      "\u001b[37m/home/prakriti/.rvm/gems/ruby-2.4.1/gems/iruby-0.3/lib/iruby/kernel.rb:37:in `run'\u001b[0m",
      "\u001b[37m/home/prakriti/.rvm/gems/ruby-2.4.1/gems/iruby-0.3/lib/iruby/command.rb:70:in `run_kernel'\u001b[0m",
      "\u001b[37m/home/prakriti/.rvm/gems/ruby-2.4.1/gems/iruby-0.3/lib/iruby/command.rb:34:in `run'\u001b[0m",
      "\u001b[37m/home/prakriti/.rvm/gems/ruby-2.4.1/gems/iruby-0.3/bin/iruby:5:in `<top (required)>'\u001b[0m",
      "\u001b[37m/home/prakriti/.rvm/gems/ruby-2.4.1/bin/iruby:23:in `load'\u001b[0m",
      "\u001b[37m/home/prakriti/.rvm/gems/ruby-2.4.1/bin/iruby:23:in `<main>'\u001b[0m",
      "\u001b[37m/home/prakriti/.rvm/gems/ruby-2.4.1/bin/ruby_executable_hooks:15:in `eval'\u001b[0m",
      "\u001b[37m/home/prakriti/.rvm/gems/ruby-2.4.1/bin/ruby_executable_hooks:15:in `<main>'\u001b[0m"
     ]
    }
   ],
   "source": [
    "plt2 = Daru::View::Plot.new(df) "
   ]
  },
  {
   "cell_type": "code",
   "execution_count": 7,
   "metadata": {},
   "outputs": [
    {
     "ename": "NoMethodError",
     "evalue": "undefined method `show_in_iruby' for nil:NilClass",
     "output_type": "error",
     "traceback": [
      "\u001b[31mNoMethodError\u001b[0m: undefined method `show_in_iruby' for nil:NilClass",
      "\u001b[37m(pry):13:in `<main>'\u001b[0m",
      "\u001b[37m/home/prakriti/.rvm/gems/ruby-2.4.1/gems/pry-0.11.3/lib/pry/pry_instance.rb:355:in `eval'\u001b[0m",
      "\u001b[37m/home/prakriti/.rvm/gems/ruby-2.4.1/gems/pry-0.11.3/lib/pry/pry_instance.rb:355:in `evaluate_ruby'\u001b[0m",
      "\u001b[37m/home/prakriti/.rvm/gems/ruby-2.4.1/gems/pry-0.11.3/lib/pry/pry_instance.rb:323:in `handle_line'\u001b[0m",
      "\u001b[37m/home/prakriti/.rvm/gems/ruby-2.4.1/gems/pry-0.11.3/lib/pry/pry_instance.rb:243:in `block (2 levels) in eval'\u001b[0m",
      "\u001b[37m/home/prakriti/.rvm/gems/ruby-2.4.1/gems/pry-0.11.3/lib/pry/pry_instance.rb:242:in `catch'\u001b[0m",
      "\u001b[37m/home/prakriti/.rvm/gems/ruby-2.4.1/gems/pry-0.11.3/lib/pry/pry_instance.rb:242:in `block in eval'\u001b[0m",
      "\u001b[37m/home/prakriti/.rvm/gems/ruby-2.4.1/gems/pry-0.11.3/lib/pry/pry_instance.rb:241:in `catch'\u001b[0m",
      "\u001b[37m/home/prakriti/.rvm/gems/ruby-2.4.1/gems/pry-0.11.3/lib/pry/pry_instance.rb:241:in `eval'\u001b[0m",
      "\u001b[37m/home/prakriti/.rvm/gems/ruby-2.4.1/gems/iruby-0.3/lib/iruby/backend.rb:66:in `eval'\u001b[0m",
      "\u001b[37m/home/prakriti/.rvm/gems/ruby-2.4.1/gems/iruby-0.3/lib/iruby/backend.rb:12:in `eval'\u001b[0m",
      "\u001b[37m/home/prakriti/.rvm/gems/ruby-2.4.1/gems/iruby-0.3/lib/iruby/kernel.rb:87:in `execute_request'\u001b[0m",
      "\u001b[37m/home/prakriti/.rvm/gems/ruby-2.4.1/gems/iruby-0.3/lib/iruby/kernel.rb:47:in `dispatch'\u001b[0m",
      "\u001b[37m/home/prakriti/.rvm/gems/ruby-2.4.1/gems/iruby-0.3/lib/iruby/kernel.rb:37:in `run'\u001b[0m",
      "\u001b[37m/home/prakriti/.rvm/gems/ruby-2.4.1/gems/iruby-0.3/lib/iruby/command.rb:70:in `run_kernel'\u001b[0m",
      "\u001b[37m/home/prakriti/.rvm/gems/ruby-2.4.1/gems/iruby-0.3/lib/iruby/command.rb:34:in `run'\u001b[0m",
      "\u001b[37m/home/prakriti/.rvm/gems/ruby-2.4.1/gems/iruby-0.3/bin/iruby:5:in `<top (required)>'\u001b[0m",
      "\u001b[37m/home/prakriti/.rvm/gems/ruby-2.4.1/bin/iruby:23:in `load'\u001b[0m",
      "\u001b[37m/home/prakriti/.rvm/gems/ruby-2.4.1/bin/iruby:23:in `<main>'\u001b[0m",
      "\u001b[37m/home/prakriti/.rvm/gems/ruby-2.4.1/bin/ruby_executable_hooks:15:in `eval'\u001b[0m",
      "\u001b[37m/home/prakriti/.rvm/gems/ruby-2.4.1/bin/ruby_executable_hooks:15:in `<main>'\u001b[0m"
     ]
    }
   ],
   "source": [
    "plt2.show_in_iruby"
   ]
  },
  {
   "cell_type": "code",
   "execution_count": 8,
   "metadata": {},
   "outputs": [
    {
     "data": {
      "text/html": [
       "<b> Daru::Vector(3) </b>\n",
       "<table>\n",
       "  <thead>\n",
       "  \n",
       "</thead>\n",
       "  <tbody>\n",
       "  \n",
       "    <tr>\n",
       "      <td>0</td>\n",
       "      <td>1</td>\n",
       "    </tr>\n",
       "  \n",
       "    <tr>\n",
       "      <td>1</td>\n",
       "      <td>2</td>\n",
       "    </tr>\n",
       "  \n",
       "    <tr>\n",
       "      <td>2</td>\n",
       "      <td>3</td>\n",
       "    </tr>\n",
       "  \n",
       "\n",
       "  \n",
       "</tbody>\n",
       "</table>"
      ],
      "text/plain": [
       "#<Daru::Vector(3)>\n",
       "   0   1\n",
       "   1   2\n",
       "   2   3"
      ]
     },
     "execution_count": 8,
     "metadata": {},
     "output_type": "execute_result"
    }
   ],
   "source": [
    "dv = Daru::Vector.new [1, 2, 3] "
   ]
  },
  {
   "cell_type": "code",
   "execution_count": 9,
   "metadata": {},
   "outputs": [
    {
     "data": {
      "text/plain": [
       "#<Daru::View::Plot:0x000000031a2810 @data=#<Daru::Vector(3)>\n",
       "   0   1\n",
       "   1   2\n",
       "   2   3, @options={}, @adapter=Daru::View::Adapter::NyaplotAdapter, @chart=#<Nyaplot::Plot:0x000000031a25e0 @properties={:diagrams=>[#<Nyaplot::Diagram:0x000000031a1618 @properties={:type=>:scatter, :options=>{:x=>\"data0\", :y=>\"data1\"}, :data=>\"0cb3d757-7368-4ca7-92dd-06b6f6800015\"}, @xrange=[0, 2], @yrange=[1, 3]>], :options=>{}}>>"
      ]
     },
     "execution_count": 9,
     "metadata": {},
     "output_type": "execute_result"
    }
   ],
   "source": [
    "plt3 = Daru::View::Plot.new(dv)"
   ]
  },
  {
   "cell_type": "code",
   "execution_count": 10,
   "metadata": {},
   "outputs": [
    {
     "data": {
      "text/html": [
       "<div id='vis-17cf8918-bf4b-4cf4-95a1-043240d9a2a5'></div>\n",
       "<script>\n",
       "(function(){\n",
       "    var render = function(){\n",
       "        var model = {\"panes\":[{\"diagrams\":[{\"type\":\"scatter\",\"options\":{\"x\":\"data0\",\"y\":\"data1\"},\"data\":\"0cb3d757-7368-4ca7-92dd-06b6f6800015\"}],\"options\":{\"zoom\":true,\"width\":700,\"xrange\":[0,2],\"yrange\":[1,3]}}],\"data\":{\"0cb3d757-7368-4ca7-92dd-06b6f6800015\":[{\"data0\":0,\"data1\":1},{\"data0\":1,\"data1\":2},{\"data0\":2,\"data1\":3}]},\"extension\":[]}\n",
       "        var id_name = '#vis-17cf8918-bf4b-4cf4-95a1-043240d9a2a5';\n",
       "        Nyaplot.core.parse(model, id_name);\n",
       "\n",
       "        require(['downloadable'], function(downloadable){\n",
       "          var svg = d3.select(id_name).select(\"svg\");\n",
       "\t  if(!svg.empty())\n",
       "\t    svg.call(downloadable().filename('fig'));\n",
       "\t});\n",
       "    };\n",
       "    if(window['Nyaplot']==undefined){\n",
       "        window.addEventListener('load_nyaplot', render, false);\n",
       "\treturn;\n",
       "    } else {\n",
       "       render();\n",
       "    }\n",
       "})();\n",
       "</script>\n"
      ],
      "text/plain": [
       "#<Nyaplot::Frame:0x00000003153b20 @properties={:panes=>[#<Nyaplot::Plot:0x000000031a25e0 @properties={:diagrams=>[#<Nyaplot::Diagram:0x000000031a1618 @properties={:type=>:scatter, :options=>{:x=>\"data0\", :y=>\"data1\"}, :data=>\"0cb3d757-7368-4ca7-92dd-06b6f6800015\"}, @xrange=[0, 2], @yrange=[1, 3]>], :options=>{:zoom=>true, :width=>700, :xrange=>[0, 2], :yrange=>[1, 3]}}>], :data=>{\"0cb3d757-7368-4ca7-92dd-06b6f6800015\"=>#<Nyaplot::DataFrame:0x000000031a1d98 @name=\"0cb3d757-7368-4ca7-92dd-06b6f6800015\", @rows=[{:data0=>0, :data1=>1}, {:data0=>1, :data1=>2}, {:data0=>2, :data1=>3}]>}, :extension=>[]}>"
      ]
     },
     "metadata": {},
     "output_type": "display_data"
    },
    {
     "data": {
      "text/plain": [
       "#<CZTop::Socket::PUB:0x2c6bf50 last_endpoint=\"tcp://127.0.0.1:37477\">"
      ]
     },
     "execution_count": 10,
     "metadata": {},
     "output_type": "execute_result"
    }
   ],
   "source": [
    "plt3.show_in_iruby"
   ]
  },
  {
   "cell_type": "code",
   "execution_count": 11,
   "metadata": {},
   "outputs": [
    {
     "data": {
      "text/plain": [
       "#<Daru::View::Plot:0x000000030e1548 @data=#<Daru::Vector(3)>\n",
       "   0   1\n",
       "   1   2\n",
       "   2   3, @options={:type=>:line}, @adapter=Daru::View::Adapter::NyaplotAdapter, @chart=#<Nyaplot::Plot:0x000000030e13b8 @properties={:diagrams=>[#<Nyaplot::Diagram:0x000000030e03a0 @properties={:type=>:line, :options=>{:x=>\"data0\", :y=>\"data1\"}, :data=>\"266845a7-cb3e-4f64-be44-5ea88a347c11\"}, @xrange=[0, 2], @yrange=[1, 3]>], :options=>{}}>>"
      ]
     },
     "execution_count": 11,
     "metadata": {},
     "output_type": "execute_result"
    }
   ],
   "source": [
    "plt3 = Daru::View::Plot.new(dv, type: :line)"
   ]
  },
  {
   "cell_type": "code",
   "execution_count": 12,
   "metadata": {},
   "outputs": [
    {
     "data": {
      "text/html": [
       "<div id='vis-d5be429d-5584-48a0-b833-6854e419cd10'></div>\n",
       "<script>\n",
       "(function(){\n",
       "    var render = function(){\n",
       "        var model = {\"panes\":[{\"diagrams\":[{\"type\":\"line\",\"options\":{\"x\":\"data0\",\"y\":\"data1\"},\"data\":\"266845a7-cb3e-4f64-be44-5ea88a347c11\"}],\"options\":{\"zoom\":true,\"width\":700,\"xrange\":[0,2],\"yrange\":[1,3]}}],\"data\":{\"266845a7-cb3e-4f64-be44-5ea88a347c11\":[{\"data0\":0,\"data1\":1},{\"data0\":1,\"data1\":2},{\"data0\":2,\"data1\":3}]},\"extension\":[]}\n",
       "        var id_name = '#vis-d5be429d-5584-48a0-b833-6854e419cd10';\n",
       "        Nyaplot.core.parse(model, id_name);\n",
       "\n",
       "        require(['downloadable'], function(downloadable){\n",
       "          var svg = d3.select(id_name).select(\"svg\");\n",
       "\t  if(!svg.empty())\n",
       "\t    svg.call(downloadable().filename('fig'));\n",
       "\t});\n",
       "    };\n",
       "    if(window['Nyaplot']==undefined){\n",
       "        window.addEventListener('load_nyaplot', render, false);\n",
       "\treturn;\n",
       "    } else {\n",
       "       render();\n",
       "    }\n",
       "})();\n",
       "</script>\n"
      ],
      "text/plain": [
       "#<Nyaplot::Frame:0x0000000303c6d8 @properties={:panes=>[#<Nyaplot::Plot:0x000000030e13b8 @properties={:diagrams=>[#<Nyaplot::Diagram:0x000000030e03a0 @properties={:type=>:line, :options=>{:x=>\"data0\", :y=>\"data1\"}, :data=>\"266845a7-cb3e-4f64-be44-5ea88a347c11\"}, @xrange=[0, 2], @yrange=[1, 3]>], :options=>{:zoom=>true, :width=>700, :xrange=>[0, 2], :yrange=>[1, 3]}}>], :data=>{\"266845a7-cb3e-4f64-be44-5ea88a347c11\"=>#<Nyaplot::DataFrame:0x000000030e0a80 @name=\"266845a7-cb3e-4f64-be44-5ea88a347c11\", @rows=[{:data0=>0, :data1=>1}, {:data0=>1, :data1=>2}, {:data0=>2, :data1=>3}]>}, :extension=>[]}>"
      ]
     },
     "metadata": {},
     "output_type": "display_data"
    },
    {
     "data": {
      "text/plain": [
       "#<CZTop::Socket::PUB:0x2c6bf50 last_endpoint=\"tcp://127.0.0.1:37477\">"
      ]
     },
     "execution_count": 12,
     "metadata": {},
     "output_type": "execute_result"
    }
   ],
   "source": [
    "plt3.show_in_iruby"
   ]
  },
  {
   "cell_type": "code",
   "execution_count": null,
   "metadata": {},
   "outputs": [],
   "source": []
  }
 ],
 "metadata": {
  "kernelspec": {
   "display_name": "Ruby 2.4.1",
   "language": "ruby",
   "name": "ruby"
  },
  "language_info": {
   "file_extension": ".rb",
   "mimetype": "application/x-ruby",
   "name": "ruby",
   "version": "2.4.1"
  }
 },
 "nbformat": 4,
 "nbformat_minor": 2
}
