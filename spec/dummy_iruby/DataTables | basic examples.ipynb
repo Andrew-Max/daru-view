{
 "cells": [
  {
   "cell_type": "code",
   "execution_count": 1,
   "metadata": {},
   "outputs": [
    {
     "name": "stderr",
     "output_type": "stream",
     "text": [
      "\n",
      "Install the spreadsheet gem version ~>1.1.1 for using spreadsheet functions.\n",
      "\n",
      "Install the mechanize gem version ~>2.7.5 for using mechanize functions.\n"
     ]
    },
    {
     "data": {
      "application/javascript": [
       "if(window['d3'] === undefined ||\n",
       "   window['Nyaplot'] === undefined){\n",
       "    var path = {\"d3\":\"https://cdnjs.cloudflare.com/ajax/libs/d3/3.5.5/d3.min\",\"downloadable\":\"http://cdn.rawgit.com/domitry/d3-downloadable/master/d3-downloadable\"};\n",
       "\n",
       "\n",
       "\n",
       "    var shim = {\"d3\":{\"exports\":\"d3\"},\"downloadable\":{\"exports\":\"downloadable\"}};\n",
       "\n",
       "    require.config({paths: path, shim:shim});\n",
       "\n",
       "\n",
       "require(['d3'], function(d3){window['d3']=d3;console.log('finished loading d3');require(['downloadable'], function(downloadable){window['downloadable']=downloadable;console.log('finished loading downloadable');\n",
       "\n",
       "\tvar script = d3.select(\"head\")\n",
       "\t    .append(\"script\")\n",
       "\t    .attr(\"src\", \"http://cdn.rawgit.com/domitry/Nyaplotjs/master/release/nyaplot.js\")\n",
       "\t    .attr(\"async\", true);\n",
       "\n",
       "\tscript[0][0].onload = script[0][0].onreadystatechange = function(){\n",
       "\n",
       "\n",
       "\t    var event = document.createEvent(\"HTMLEvents\");\n",
       "\t    event.initEvent(\"load_nyaplot\",false,false);\n",
       "\t    window.dispatchEvent(event);\n",
       "\t    console.log('Finished loading Nyaplotjs');\n",
       "\n",
       "\t};\n",
       "\n",
       "\n",
       "});});\n",
       "}\n"
      ],
      "text/plain": [
       "\"if(window['d3'] === undefined ||\\n   window['Nyaplot'] === undefined){\\n    var path = {\\\"d3\\\":\\\"https://cdnjs.cloudflare.com/ajax/libs/d3/3.5.5/d3.min\\\",\\\"downloadable\\\":\\\"http://cdn.rawgit.com/domitry/d3-downloadable/master/d3-downloadable\\\"};\\n\\n\\n\\n    var shim = {\\\"d3\\\":{\\\"exports\\\":\\\"d3\\\"},\\\"downloadable\\\":{\\\"exports\\\":\\\"downloadable\\\"}};\\n\\n    require.config({paths: path, shim:shim});\\n\\n\\nrequire(['d3'], function(d3){window['d3']=d3;console.log('finished loading d3');require(['downloadable'], function(downloadable){window['downloadable']=downloadable;console.log('finished loading downloadable');\\n\\n\\tvar script = d3.select(\\\"head\\\")\\n\\t    .append(\\\"script\\\")\\n\\t    .attr(\\\"src\\\", \\\"http://cdn.rawgit.com/domitry/Nyaplotjs/master/release/nyaplot.js\\\")\\n\\t    .attr(\\\"async\\\", true);\\n\\n\\tscript[0][0].onload = script[0][0].onreadystatechange = function(){\\n\\n\\n\\t    var event = document.createEvent(\\\"HTMLEvents\\\");\\n\\t    event.initEvent(\\\"load_nyaplot\\\",false,false);\\n\\t    window.dispatchEvent(event);\\n\\t    console.log('Finished loading Nyaplotjs');\\n\\n\\t};\\n\\n\\n});});\\n}\\n\""
      ]
     },
     "metadata": {},
     "output_type": "display_data"
    },
    {
     "data": {
      "text/plain": [
       "true"
      ]
     },
     "execution_count": 1,
     "metadata": {},
     "output_type": "execute_result"
    }
   ],
   "source": [
    "require 'daru/view'"
   ]
  },
  {
   "cell_type": "code",
   "execution_count": 2,
   "metadata": {},
   "outputs": [
    {
     "data": {
      "text/plain": [
       ":datatables"
      ]
     },
     "execution_count": 2,
     "metadata": {},
     "output_type": "execute_result"
    }
   ],
   "source": [
    "Daru::View.table_library = :datatables"
   ]
  },
  {
   "cell_type": "code",
   "execution_count": 3,
   "metadata": {},
   "outputs": [
    {
     "data": {
      "text/html": [
       "<b> Daru::DataFrame(5x3) </b>\n",
       "<table>\n",
       "  <thead>\n",
       "  \n",
       "    <tr>\n",
       "      <th></th>\n",
       "      \n",
       "        <th>a</th>\n",
       "      \n",
       "        <th>b</th>\n",
       "      \n",
       "        <th>c</th>\n",
       "      \n",
       "    </tr>\n",
       "  \n",
       "</thead>\n",
       "  <tbody>\n",
       "  \n",
       "    <tr>\n",
       "      <td>one</td>\n",
       "      \n",
       "        <td>1</td>\n",
       "      \n",
       "        <td>11</td>\n",
       "      \n",
       "        <td>11</td>\n",
       "      \n",
       "    </tr>\n",
       "  \n",
       "    <tr>\n",
       "      <td>two</td>\n",
       "      \n",
       "        <td>2</td>\n",
       "      \n",
       "        <td>12</td>\n",
       "      \n",
       "        <td>22</td>\n",
       "      \n",
       "    </tr>\n",
       "  \n",
       "    <tr>\n",
       "      <td>three</td>\n",
       "      \n",
       "        <td>3</td>\n",
       "      \n",
       "        <td>13</td>\n",
       "      \n",
       "        <td>33</td>\n",
       "      \n",
       "    </tr>\n",
       "  \n",
       "    <tr>\n",
       "      <td>four</td>\n",
       "      \n",
       "        <td>4</td>\n",
       "      \n",
       "        <td>14</td>\n",
       "      \n",
       "        <td>44</td>\n",
       "      \n",
       "    </tr>\n",
       "  \n",
       "    <tr>\n",
       "      <td>five</td>\n",
       "      \n",
       "        <td>5</td>\n",
       "      \n",
       "        <td>15</td>\n",
       "      \n",
       "        <td>55</td>\n",
       "      \n",
       "    </tr>\n",
       "  \n",
       "\n",
       "  \n",
       "</tbody>\n",
       "</table>"
      ],
      "text/plain": [
       "#<Daru::DataFrame(5x3)>\n",
       "           a     b     c\n",
       "   one     1    11    11\n",
       "   two     2    12    22\n",
       " three     3    13    33\n",
       "  four     4    14    44\n",
       "  five     5    15    55"
      ]
     },
     "execution_count": 3,
     "metadata": {},
     "output_type": "execute_result"
    }
   ],
   "source": [
    "df = Daru::DataFrame.new({b: [11,12,13,14,15], a: [1,2,3,4,5],\n",
    "      c: [11,22,33,44,55]},\n",
    "      order: [:a, :b, :c],\n",
    "      index: [:one, :two, :three, :four, :five])"
   ]
  },
  {
   "cell_type": "code",
   "execution_count": 4,
   "metadata": {},
   "outputs": [
    {
     "data": {
      "text/plain": [
       "#<Daru::View::Table:0x00000003ed09b0 @data=#<Daru::DataFrame(5x3)>\n",
       "           a     b     c\n",
       "   one     1    11    11\n",
       "   two     2    12    22\n",
       " three     3    13    33\n",
       "  four     4    14    44\n",
       "  five     5    15    55, @options={:pageLength=>3}, @adapter=Daru::View::Adapter::DatatablesAdapter, @table=#<Daru::DataTables::DataTable:0x00000003ed0960 @options={:pageLength=>3}>>"
      ]
     },
     "execution_count": 4,
     "metadata": {},
     "output_type": "execute_result"
    }
   ],
   "source": [
    "dt_df =  Daru::View::Table.new(df, pageLength: 3)"
   ]
  },
  {
   "cell_type": "code",
   "execution_count": 5,
   "metadata": {},
   "outputs": [
    {
     "data": {
      "text/plain": [
       "\"\\n<script type='text/javascript'>\\n  \\n$(document).ready(function() {\\n\\n  $('#c729c4fa-606e-44c1-92b0-c42806ea5dc5').DataTable(\\n    {pageLength: 3}\\n  );\\n\\n});\\n</script>\\n\""
      ]
     },
     "execution_count": 5,
     "metadata": {},
     "output_type": "execute_result"
    }
   ],
   "source": [
    "dt_df.table.to_html"
   ]
  },
  {
   "cell_type": "code",
   "execution_count": 6,
   "metadata": {},
   "outputs": [
    {
     "data": {
      "text/plain": [
       "\"\\n<script type='text/javascript'>\\n  \\n$(document).ready(function() {\\n\\n  $('#table_id4').DataTable(\\n    {pageLength: 3}\\n  );\\n\\n});\\n</script>\\n<table class=\\\"display\\\" cellspacing=\\\"0\\\" width=\\\"50%\\\" id=\\\"table_id4\\\">\\n      <thead>\\n            <tr>\\n                <th>Num1 </th>\\n                <th>Num2 </th>\\n                <th>Num3 </th>\\n            </tr>\\n        </thead></table>\""
      ]
     },
     "execution_count": 6,
     "metadata": {},
     "output_type": "execute_result"
    }
   ],
   "source": [
    "    table_opts = {\n",
    "      class: \"display\",\n",
    "      cellspacing: \"0\",\n",
    "      width: \"50%\",\n",
    "      table_html: \"\n",
    "      <thead>\n",
    "            <tr>\n",
    "                <th>Num1 </th>\n",
    "                <th>Num2 </th>\n",
    "                <th>Num3 </th>\n",
    "            </tr>\n",
    "        </thead>\"\n",
    "      }\n",
    "    options = {\n",
    "        table_options: table_opts\n",
    "    }\n",
    "html_code_dt_df = dt_df.table.to_html(id='table_id4', options)"
   ]
  },
  {
   "cell_type": "code",
   "execution_count": 7,
   "metadata": {},
   "outputs": [
    {
     "data": {
      "text/html": [
       "\n",
       "<script type='text/javascript'>\n",
       "  \n",
       "$(document).ready(function() {\n",
       "\n",
       "  $('#table_id4').DataTable(\n",
       "    {pageLength: 3}\n",
       "  );\n",
       "\n",
       "});\n",
       "</script>\n",
       "<table class=\"display\" cellspacing=\"0\" width=\"50%\" id=\"table_id4\">\n",
       "      <thead>\n",
       "            <tr>\n",
       "                <th>Num1 </th>\n",
       "                <th>Num2 </th>\n",
       "                <th>Num3 </th>\n",
       "            </tr>\n",
       "        </thead></table>"
      ],
      "text/plain": [
       "\"\\n<script type='text/javascript'>\\n  \\n$(document).ready(function() {\\n\\n  $('#table_id4').DataTable(\\n    {pageLength: 3}\\n  );\\n\\n});\\n</script>\\n<table class=\\\"display\\\" cellspacing=\\\"0\\\" width=\\\"50%\\\" id=\\\"table_id4\\\">\\n      <thead>\\n            <tr>\\n                <th>Num1 </th>\\n                <th>Num2 </th>\\n                <th>Num3 </th>\\n            </tr>\\n        </thead></table>\""
      ]
     },
     "execution_count": 7,
     "metadata": {},
     "output_type": "execute_result"
    }
   ],
   "source": [
    "IRuby.html html_code_dt_df"
   ]
  },
  {
   "cell_type": "code",
   "execution_count": null,
   "metadata": {},
   "outputs": [],
   "source": []
  },
  {
   "cell_type": "code",
   "execution_count": null,
   "metadata": {},
   "outputs": [],
   "source": []
  }
 ],
 "metadata": {
  "kernelspec": {
   "display_name": "Ruby 2.4.1",
   "language": "ruby",
   "name": "ruby"
  },
  "language_info": {
   "file_extension": ".rb",
   "mimetype": "application/x-ruby",
   "name": "ruby",
   "version": "2.4.1"
  }
 },
 "nbformat": 4,
 "nbformat_minor": 2
}
