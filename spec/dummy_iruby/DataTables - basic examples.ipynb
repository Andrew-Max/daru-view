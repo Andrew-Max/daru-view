{
 "cells": [
  {
   "cell_type": "code",
   "execution_count": 1,
   "metadata": {},
   "outputs": [
    {
     "name": "stderr",
     "output_type": "stream",
     "text": [
      "\n",
      "Install the spreadsheet gem version ~>1.1.1 for using spreadsheet functions.\n",
      "\n",
      "Install the mechanize gem version ~>2.7.5 for using mechanize functions.\n"
     ]
    },
    {
     "data": {
      "text/plain": [
       "true"
      ]
     },
     "execution_count": 1,
     "metadata": {},
     "output_type": "execute_result"
    }
   ],
   "source": [
    "require 'daru/view'"
   ]
  },
  {
   "cell_type": "code",
   "execution_count": 2,
   "metadata": {},
   "outputs": [
    {
     "data": {
      "text/plain": [
       ":datatables"
      ]
     },
     "execution_count": 2,
     "metadata": {},
     "output_type": "execute_result"
    }
   ],
   "source": [
    "Daru::View.table_library = :datatables"
   ]
  },
  {
   "cell_type": "code",
   "execution_count": 3,
   "metadata": {},
   "outputs": [
    {
     "data": {
      "text/html": [
       "<b> Daru::DataFrame(5x3) </b>\n",
       "<table>\n",
       "  <thead>\n",
       "  \n",
       "    <tr>\n",
       "      <th></th>\n",
       "      \n",
       "        <th>a</th>\n",
       "      \n",
       "        <th>b</th>\n",
       "      \n",
       "        <th>c</th>\n",
       "      \n",
       "    </tr>\n",
       "  \n",
       "</thead>\n",
       "  <tbody>\n",
       "  \n",
       "    <tr>\n",
       "      <td>one</td>\n",
       "      \n",
       "        <td>1</td>\n",
       "      \n",
       "        <td>11</td>\n",
       "      \n",
       "        <td>11</td>\n",
       "      \n",
       "    </tr>\n",
       "  \n",
       "    <tr>\n",
       "      <td>two</td>\n",
       "      \n",
       "        <td>2</td>\n",
       "      \n",
       "        <td>12</td>\n",
       "      \n",
       "        <td>22</td>\n",
       "      \n",
       "    </tr>\n",
       "  \n",
       "    <tr>\n",
       "      <td>three</td>\n",
       "      \n",
       "        <td>3</td>\n",
       "      \n",
       "        <td>13</td>\n",
       "      \n",
       "        <td>33</td>\n",
       "      \n",
       "    </tr>\n",
       "  \n",
       "    <tr>\n",
       "      <td>four</td>\n",
       "      \n",
       "        <td>4</td>\n",
       "      \n",
       "        <td>14</td>\n",
       "      \n",
       "        <td>44</td>\n",
       "      \n",
       "    </tr>\n",
       "  \n",
       "    <tr>\n",
       "      <td>five</td>\n",
       "      \n",
       "        <td>5</td>\n",
       "      \n",
       "        <td>15</td>\n",
       "      \n",
       "        <td>55</td>\n",
       "      \n",
       "    </tr>\n",
       "  \n",
       "\n",
       "  \n",
       "</tbody>\n",
       "</table>"
      ],
      "text/plain": [
       "#<Daru::DataFrame(5x3)>\n",
       "           a     b     c\n",
       "   one     1    11    11\n",
       "   two     2    12    22\n",
       " three     3    13    33\n",
       "  four     4    14    44\n",
       "  five     5    15    55"
      ]
     },
     "execution_count": 3,
     "metadata": {},
     "output_type": "execute_result"
    }
   ],
   "source": [
    "df = Daru::DataFrame.new({b: [11,12,13,14,15], a: [1,2,3,4,5],\n",
    "      c: [11,22,33,44,55]},\n",
    "      order: [:a, :b, :c],\n",
    "      index: [:one, :two, :three, :four, :five])"
   ]
  },
  {
   "cell_type": "code",
   "execution_count": 4,
   "metadata": {},
   "outputs": [
    {
     "data": {
      "text/plain": [
       "#<Daru::View::Table:0x00000002ccf3b0 @data=#<Daru::DataFrame(5x3)>\n",
       "           a     b     c\n",
       "   one     1    11    11\n",
       "   two     2    12    22\n",
       " three     3    13    33\n",
       "  four     4    14    44\n",
       "  five     5    15    55, @options={:pageLength=>3, :data=>[[0, 1, 11, 11], [1, 2, 12, 22], [2, 3, 13, 33], [3, 4, 14, 44], [4, 5, 15, 55]]}, @user_options={}, @adapter=Daru::View::Adapter::DatatablesAdapter, @table=#<Daru::DataTables::DataTable:0x00000002ccf338 @html_options={:table_options=>{:class=>\"display\", :cellspacing=>\"0\", :width=>\"100%\"}}, @data=#<Daru::DataFrame(5x3)>\n",
       "           a     b     c\n",
       "   one     1    11    11\n",
       "   two     2    12    22\n",
       " three     3    13    33\n",
       "  four     4    14    44\n",
       "  five     5    15    55, @options={:pageLength=>3, :data=>[[0, 1, 11, 11], [1, 2, 12, 22], [2, 3, 13, 33], [3, 4, 14, 44], [4, 5, 15, 55]]}>>"
      ]
     },
     "execution_count": 4,
     "metadata": {},
     "output_type": "execute_result"
    }
   ],
   "source": [
    "dt_df =  Daru::View::Table.new(df, pageLength: 3)"
   ]
  },
  {
   "cell_type": "code",
   "execution_count": 5,
   "metadata": {},
   "outputs": [
    {
     "data": {
      "text/html": [
       "\n",
       "<script type='text/javascript'>\n",
       "  \n",
       "$(document).ready(function() {\n",
       "\n",
       "\t$('#137e472e-8850-419e-8d2c-ac0176df7d97').DataTable(\n",
       "\t\t{pageLength: 3, data: [[0,1,11,11],[1,2,12,22],[2,3,13,33],[3,4,14,44],[4,5,15,55]]}\n",
       "\t);\n",
       "\n",
       "});\n",
       "</script>\n",
       "<table class=\"display\" cellspacing=\"0\" width=\"100%\" id=\"137e472e-8850-419e-8d2c-ac0176df7d97\"><thead>\n",
       "  \n",
       "    <tr>\n",
       "      <th></th>\n",
       "      \n",
       "        <th>a</th>\n",
       "      \n",
       "        <th>b</th>\n",
       "      \n",
       "        <th>c</th>\n",
       "      \n",
       "    </tr>\n",
       "  \n",
       "</thead></table>"
      ],
      "text/plain": [
       "\"\\n<script type='text/javascript'>\\n  \\n$(document).ready(function() {\\n\\n\\t$('#137e472e-8850-419e-8d2c-ac0176df7d97').DataTable(\\n\\t\\t{pageLength: 3, data: [[0,1,11,11],[1,2,12,22],[2,3,13,33],[3,4,14,44],[4,5,15,55]]}\\n\\t);\\n\\n});\\n</script>\\n<table class=\\\"display\\\" cellspacing=\\\"0\\\" width=\\\"100%\\\" id=\\\"137e472e-8850-419e-8d2c-ac0176df7d97\\\"><thead>\\n  \\n    <tr>\\n      <th></th>\\n      \\n        <th>a</th>\\n      \\n        <th>b</th>\\n      \\n        <th>c</th>\\n      \\n    </tr>\\n  \\n</thead></table>\""
      ]
     },
     "execution_count": 5,
     "metadata": {},
     "output_type": "execute_result"
    }
   ],
   "source": [
    "dt_df.show_in_iruby"
   ]
  },
  {
   "cell_type": "code",
   "execution_count": 6,
   "metadata": {},
   "outputs": [
    {
     "data": {
      "text/plain": [
       "\"\\n<script type='text/javascript'>\\n  \\n$(document).ready(function() {\\n\\n\\t$('#table_id4').DataTable(\\n\\t\\t{pageLength: 3, data: [[0,1,11,11],[1,2,12,22],[2,3,13,33],[3,4,14,44],[4,5,15,55]]}\\n\\t);\\n\\n});\\n</script>\\n<table class=\\\"display\\\" cellspacing=\\\"0\\\" width=\\\"100%\\\" id=\\\"table_id4\\\"><thead>\\n  \\n    <tr>\\n      <th></th>\\n      \\n        <th>a</th>\\n      \\n        <th>b</th>\\n      \\n        <th>c</th>\\n      \\n    </tr>\\n  \\n</thead></table>\""
      ]
     },
     "execution_count": 6,
     "metadata": {},
     "output_type": "execute_result"
    }
   ],
   "source": [
    "    table_opts = {\n",
    "      class: \"display\",\n",
    "      cellspacing: \"0\",\n",
    "      width: \"50%\",\n",
    "      table_html: \"\n",
    "      <thead>\n",
    "            <tr>\n",
    "                <th>Num1 </th>\n",
    "                <th>Num2 </th>\n",
    "                <th>Num3 </th>\n",
    "            </tr>\n",
    "        </thead>\"\n",
    "      }\n",
    "    options = {\n",
    "        table_options: table_opts\n",
    "    }\n",
    "html_code_dt_df = dt_df.table.to_html(id='table_id4', options)"
   ]
  },
  {
   "cell_type": "code",
   "execution_count": 7,
   "metadata": {},
   "outputs": [
    {
     "data": {
      "text/html": [
       "\n",
       "<script type='text/javascript'>\n",
       "  \n",
       "$(document).ready(function() {\n",
       "\n",
       "\t$('#table_id4').DataTable(\n",
       "\t\t{pageLength: 3, data: [[0,1,11,11],[1,2,12,22],[2,3,13,33],[3,4,14,44],[4,5,15,55]]}\n",
       "\t);\n",
       "\n",
       "});\n",
       "</script>\n",
       "<table class=\"display\" cellspacing=\"0\" width=\"100%\" id=\"table_id4\"><thead>\n",
       "  \n",
       "    <tr>\n",
       "      <th></th>\n",
       "      \n",
       "        <th>a</th>\n",
       "      \n",
       "        <th>b</th>\n",
       "      \n",
       "        <th>c</th>\n",
       "      \n",
       "    </tr>\n",
       "  \n",
       "</thead></table>"
      ],
      "text/plain": [
       "\"\\n<script type='text/javascript'>\\n  \\n$(document).ready(function() {\\n\\n\\t$('#table_id4').DataTable(\\n\\t\\t{pageLength: 3, data: [[0,1,11,11],[1,2,12,22],[2,3,13,33],[3,4,14,44],[4,5,15,55]]}\\n\\t);\\n\\n});\\n</script>\\n<table class=\\\"display\\\" cellspacing=\\\"0\\\" width=\\\"100%\\\" id=\\\"table_id4\\\"><thead>\\n  \\n    <tr>\\n      <th></th>\\n      \\n        <th>a</th>\\n      \\n        <th>b</th>\\n      \\n        <th>c</th>\\n      \\n    </tr>\\n  \\n</thead></table>\""
      ]
     },
     "execution_count": 7,
     "metadata": {},
     "output_type": "execute_result"
    }
   ],
   "source": [
    "IRuby.html html_code_dt_df"
   ]
  },
  {
   "cell_type": "code",
   "execution_count": null,
   "metadata": {},
   "outputs": [],
   "source": []
  }
 ],
 "metadata": {
  "kernelspec": {
   "display_name": "Ruby 2.4.1",
   "language": "ruby",
   "name": "ruby"
  },
  "language_info": {
   "file_extension": ".rb",
   "mimetype": "application/x-ruby",
   "name": "ruby",
   "version": "2.4.1"
  }
 },
 "nbformat": 4,
 "nbformat_minor": 2
}
